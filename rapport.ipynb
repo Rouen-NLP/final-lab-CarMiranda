{
 "cells": [
  {
   "cell_type": "code",
   "execution_count": 1,
   "metadata": {},
   "outputs": [],
   "source": [
    "# Imports et configurations d'affichage\n",
    "import numpy as np\n",
    "import pandas as pd\n",
    "import seaborn as sns\n",
    "import matplotlib.pyplot as plt\n",
    "from sklearn.preprocessing import LabelEncoder\n",
    "%matplotlib inline\n",
    "sns.set()\n",
    "\n",
    "import warnings\n",
    "warnings.filterwarnings(\"ignore\")\n",
    "\n",
    "import nltk"
   ]
  },
  {
   "cell_type": "markdown",
   "metadata": {},
   "source": [
    "# Analyse descriptive préliminaire"
   ]
  },
  {
   "cell_type": "markdown",
   "metadata": {},
   "source": [
    "## Classes\n",
    "\n",
    "On peut effectuer une analyse descriptive univariée des classements donnés par des opérateurs. Cette analyse permet d'étudier la distribution des classes, ce qui permettrait de relever des problèmes de sur/sous représentation."
   ]
  },
  {
   "cell_type": "code",
   "execution_count": 2,
   "metadata": {},
   "outputs": [
    {
     "data": {
      "text/html": [
       "<div>\n",
       "<style scoped>\n",
       "    .dataframe tbody tr th:only-of-type {\n",
       "        vertical-align: middle;\n",
       "    }\n",
       "\n",
       "    .dataframe tbody tr th {\n",
       "        vertical-align: top;\n",
       "    }\n",
       "\n",
       "    .dataframe thead th {\n",
       "        text-align: right;\n",
       "    }\n",
       "</style>\n",
       "<table border=\"1\" class=\"dataframe\">\n",
       "  <thead>\n",
       "    <tr style=\"text-align: right;\">\n",
       "      <th></th>\n",
       "      <th>img_path</th>\n",
       "      <th>label</th>\n",
       "    </tr>\n",
       "  </thead>\n",
       "  <tbody>\n",
       "    <tr>\n",
       "      <th>2249</th>\n",
       "      <td>Memo/2074163081.jpg</td>\n",
       "      <td>Memo</td>\n",
       "    </tr>\n",
       "    <tr>\n",
       "      <th>1708</th>\n",
       "      <td>Letter/520693484+-3486.jpg</td>\n",
       "      <td>Letter</td>\n",
       "    </tr>\n",
       "    <tr>\n",
       "      <th>2098</th>\n",
       "      <td>Memo/2047523173_3191.jpg</td>\n",
       "      <td>Memo</td>\n",
       "    </tr>\n",
       "    <tr>\n",
       "      <th>2342</th>\n",
       "      <td>Memo/87293861_3880.jpg</td>\n",
       "      <td>Memo</td>\n",
       "    </tr>\n",
       "    <tr>\n",
       "      <th>2537</th>\n",
       "      <td>News/2025880123.jpg</td>\n",
       "      <td>News</td>\n",
       "    </tr>\n",
       "  </tbody>\n",
       "</table>\n",
       "</div>"
      ],
      "text/plain": [
       "                        img_path   label\n",
       "2249         Memo/2074163081.jpg    Memo\n",
       "1708  Letter/520693484+-3486.jpg  Letter\n",
       "2098    Memo/2047523173_3191.jpg    Memo\n",
       "2342      Memo/87293861_3880.jpg    Memo\n",
       "2537         News/2025880123.jpg    News"
      ]
     },
     "execution_count": 2,
     "metadata": {},
     "output_type": "execute_result"
    }
   ],
   "source": [
    "classes = pd.read_csv('./input/Tobacco3482.csv', sep = \",\")\n",
    "classes.sample(5)"
   ]
  },
  {
   "cell_type": "markdown",
   "metadata": {},
   "source": [
    "### Données manquantes et mal classées\n",
    "\n",
    "On peut ensuite vérifier s'il y a des étiquettes manquantes ou bien des incohérence entre le classement et le dossier où est localisée l'instance."
   ]
  },
  {
   "cell_type": "code",
   "execution_count": 4,
   "metadata": {
    "scrolled": true
   },
   "outputs": [
    {
     "name": "stdout",
     "output_type": "stream",
     "text": [
      "Pourcentage d'étiquettes manquantes : 0.0\n",
      "Etiquettes : ['Advertisement' 'Email' 'Form' 'Letter' 'Memo' 'News' 'Note' 'Report'\n",
      " 'Resume' 'Scientific']\n",
      "Misclassified : 0\n"
     ]
    },
    {
     "data": {
      "text/html": [
       "<div>\n",
       "<style scoped>\n",
       "    .dataframe tbody tr th:only-of-type {\n",
       "        vertical-align: middle;\n",
       "    }\n",
       "\n",
       "    .dataframe tbody tr th {\n",
       "        vertical-align: top;\n",
       "    }\n",
       "\n",
       "    .dataframe thead th {\n",
       "        text-align: right;\n",
       "    }\n",
       "</style>\n",
       "<table border=\"1\" class=\"dataframe\">\n",
       "  <thead>\n",
       "    <tr style=\"text-align: right;\">\n",
       "      <th></th>\n",
       "      <th>img_path</th>\n",
       "      <th>label</th>\n",
       "    </tr>\n",
       "  </thead>\n",
       "  <tbody>\n",
       "    <tr>\n",
       "      <th>count</th>\n",
       "      <td>3482</td>\n",
       "      <td>3482</td>\n",
       "    </tr>\n",
       "    <tr>\n",
       "      <th>unique</th>\n",
       "      <td>3482</td>\n",
       "      <td>10</td>\n",
       "    </tr>\n",
       "    <tr>\n",
       "      <th>top</th>\n",
       "      <td>Memo/2054641494.jpg</td>\n",
       "      <td>Memo</td>\n",
       "    </tr>\n",
       "    <tr>\n",
       "      <th>freq</th>\n",
       "      <td>1</td>\n",
       "      <td>620</td>\n",
       "    </tr>\n",
       "  </tbody>\n",
       "</table>\n",
       "</div>"
      ],
      "text/plain": [
       "                   img_path label\n",
       "count                  3482  3482\n",
       "unique                 3482    10\n",
       "top     Memo/2054641494.jpg  Memo\n",
       "freq                      1   620"
      ]
     },
     "execution_count": 4,
     "metadata": {},
     "output_type": "execute_result"
    }
   ],
   "source": [
    "print(\"Pourcentage d'étiquettes manquantes :\", 1.0 - classes.shape[0] / classes.dropna().shape[0])\n",
    "print(\"Etiquettes :\", classes.label.unique())\n",
    "s = 0\n",
    "for i in range(classes.shape[0]):\n",
    "    s += classes[\"img_path\"][i].split(\"/\")[0] == classes[\"label\"][i]\n",
    "print(\"Misclassified :\", classes.shape[0] - s)\n",
    "classes.describe()"
   ]
  },
  {
   "cell_type": "markdown",
   "metadata": {},
   "source": [
    "### Distribution des étiquettes\n",
    "\n",
    "Maintenant qu'on sait qu'il n'y a pas d'étiquettes manquantes ni mal placées, on peut observer la distribution des étiquettes."
   ]
  },
  {
   "cell_type": "code",
   "execution_count": 5,
   "metadata": {
    "scrolled": true
   },
   "outputs": [
    {
     "data": {
      "image/png": "[encoded data removed]",
      "text/plain": [
       "<Figure size 432x288 with 1 Axes>"
      ]
     },
     "metadata": {},
     "output_type": "display_data"
    }
   ],
   "source": [
    "classes_lab = LabelEncoder()\n",
    "labels = classes_lab.fit_transform(classes.label)\n",
    "cp = sns.countplot(classes.label)\n",
    "cp.set_title(\"Distribution des étiquettes\")\n",
    "_ = cp.set_xticklabels(rotation = 45, labels = classes.label.unique())"
   ]
  },
  {
   "cell_type": "markdown",
   "metadata": {},
   "source": [
    "On constate qu'il y a quatre étiquettes qui sont plus présentes que les autres, mais on ne peut pas parler de sur/sous-représentation. Cependant, en vue du faible nombre de données, et en tenant compte qu'on effectuera une tâche de traitement automatique du langage naturel, on pourrait envisager de mettre en place des techniques de génération/augmentation de données."
   ]
  },
  {
   "cell_type": "markdown",
   "metadata": {},
   "source": [
    "## Classification Naïve Bayésienne Multinomiale\n",
    "\n",
    "Suite à l'analyse descriptive préliminaire, on peut appliquer un premier algorithme \"simple\" : un classifieur bayésien naïf. Le principe de ce classifieur est d'utiliser une hypothèse d'indépendence entre les caractéristiques des classes pour estimer une probabilité associée à l'appartenance à une classe."
   ]
  },
  {
   "cell_type": "code",
   "execution_count": 36,
   "metadata": {},
   "outputs": [],
   "source": [
    "# On récupère les données textuelles obtenues par OCR.\n",
    "data = []\n",
    "ocr_path = classes.img_path.replace(to_replace=\".jpg\", value = \".txt\", regex = True)\n",
    "for path in ocr_path:\n",
    "    with open('./input/Tobacco3482-OCR/' + path, encoding = \"utf8\") as f:\n",
    "        data.append(f.read())"
   ]
  },
  {
   "cell_type": "code",
   "execution_count": 80,
   "metadata": {},
   "outputs": [],
   "source": [
    "# On prépare un premier jeu de données d'apprentissage, validation et test.\n",
    "from sklearn.model_selection import train_test_split\n",
    "from sklearn.feature_extraction.text import CountVectorizer\n",
    "from sklearn.feature_extraction.text import TfidfTransformer\n",
    "from sklearn.naive_bayes import MultinomialNB\n",
    "\n",
    "x_train, x_test, y_train, y_test = train_test_split(data, classes.label, test_size = 0.2, random_state = 30996)\n",
    "x_dev, x_test, y_dev, y_test = train_test_split(x_test, y_test, test_size = 0.5, random_state = 30996)"
   ]
  },
  {
   "cell_type": "code",
   "execution_count": 85,
   "metadata": {},
   "outputs": [],
   "source": [
    "# On produit une matrice de termes-documents\n",
    "vectorizer = CountVectorizer()\n",
    "vectorizer.fit(x_train)\n",
    "x_train_counts = vectorizer.transform(x_train)\n",
    "x_test_counts = vectorizer.transform(x_test)\n",
    "\n",
    "# Et on calcule le tfidf (term frequency-inverse document frequency)\n",
    "tf_transformer = TfidfTransformer().fit(x_train_counts)\n",
    "x_train_tf = tf_transformer.transform(x_train_counts)\n",
    "x_test_tf = tf_transformer.transform(x_test_counts)"
   ]
  },
  {
   "cell_type": "code",
   "execution_count": 86,
   "metadata": {},
   "outputs": [
    {
     "data": {
      "text/plain": [
       "MultinomialNB(alpha=1.0, class_prior=None, fit_prior=True)"
      ]
     },
     "execution_count": 86,
     "metadata": {},
     "output_type": "execute_result"
    }
   ],
   "source": [
    "# Entraînement du modèle\n",
    "model = MultinomialNB()\n",
    "model.fit(x_train_tf, y_train)"
   ]
  },
  {
   "cell_type": "code",
   "execution_count": 87,
   "metadata": {
    "scrolled": false
   },
   "outputs": [
    {
     "name": "stdout",
     "output_type": "stream",
     "text": [
      "               precision    recall  f1-score   support\n",
      "\n",
      "Advertisement       1.00      0.05      0.09        21\n",
      "        Email       0.91      0.88      0.89        58\n",
      "         Form       0.60      0.46      0.52        39\n",
      "       Letter       0.33      0.83      0.47        52\n",
      "         Memo       0.42      0.85      0.56        65\n",
      "         News       0.00      0.00      0.00        28\n",
      "         Note       0.00      0.00      0.00        25\n",
      "       Report       0.00      0.00      0.00        23\n",
      "       Resume       1.00      0.07      0.13        14\n",
      "   Scientific       0.00      0.00      0.00        24\n",
      "\n",
      "  avg / total       0.45      0.48      0.39       349\n",
      "\n"
     ]
    },
    {
     "data": {
      "text/plain": [
       "array([[ 56,   2,  11,  47,  68,   0,   0,   0,   0,   0],\n",
       "       [  0, 457,   0,  11,  12,   0,   0,   0,   0,   0],\n",
       "       [  0,   3, 234,  20,  81,   0,   0,   0,   0,   0],\n",
       "       [  0,   1,   0, 426,  27,   0,   0,   0,   0,   0],\n",
       "       [  0,   0,   0,   8, 489,   0,   0,   0,   0,   0],\n",
       "       [  0,   2,   5, 105,  19,  12,   0,   0,   0,   0],\n",
       "       [  0,  19,  22,  26,  93,   0,   1,   0,   0,   0],\n",
       "       [  0,   1,   1, 116,  94,   0,   0,   0,   0,   0],\n",
       "       [  0,   0,   0,  55,   0,   0,   0,   0,  43,   0],\n",
       "       [  0,   1,  13,  79,  85,   0,   0,   0,   0,  40]], dtype=int64)"
      ]
     },
     "execution_count": 87,
     "metadata": {},
     "output_type": "execute_result"
    }
   ],
   "source": [
    "from sklearn.metrics import classification_report\n",
    "from sklearn.metrics import confusion_matrix\n",
    "\n",
    "# Affichage du rapport de classification et de la matrice de confusion\n",
    "print(classification_report(y_test, model.predict(x_test_tf)))\n",
    "confusion_matrix(y_train, model.predict(x_train_tf))"
   ]
  },
  {
   "cell_type": "markdown",
   "metadata": {},
   "source": [
    "Les résultats ne sont pas très corrects. D'une part, les métriques usuelles de classification (Precision, Recall, F1-score) indiquent des problèmes surtout pour les classes _News, Note, Report_ et _Scientific_. D'autre part, la matrice de confusion permet de voir les classifications faites par le modèle. On observe que le faible nombre d'exemples pour certaines classes a un réel impact pour cette séparation des données et que le modèle n'arrive pas vraiment à caractériser certaines classes. Les scores de 0.0 pour la classe _Scientific_ ne sont pas très cohérents entre l'entraînement et le test, ce qui pourrait indiquer de l'overfitting.\n",
    "\n",
    "Après un premier run du pipeline _vectorization -> tf-idf -> classification_, on peut effectuer une recherche manuelle exhaustive avec validation croisée (GridSearch Cross-Validation) dans le but de trouver un ensemble de paramètres maximisant l'adéquation du modèle.\n",
    "\n",
    "Pour la vectorization, on a deux paramètres : _max_\\__df_ et _max_\\__features_. Le premier hyperparamètre correspond à un seuil maximal d'occurrence pour les termes, i.e. on ne prend pas en compte les termes qui sont trop fréquents (similaire à la notion de stop words). Le deuxième hyperparamètre correspond au nombre maximal de termes dans la matrice, e.g. si _max_\\__features_ vaut 10, on tient compte que des 10 termes les plus fréquents dans le corpus.\n",
    "\n",
    "Pour la classification, on a un paramètre : _alpha_. Ce paramètre correspond à un coefficient additif de lissage."
   ]
  },
  {
   "cell_type": "code",
   "execution_count": 78,
   "metadata": {},
   "outputs": [
    {
     "name": "stdout",
     "output_type": "stream",
     "text": [
      "Performing grid search...\n",
      "pipeline: ['vect', 'tfidf', 'clf']\n",
      "parameters:\n",
      "{'clf__alpha': (0.01,\n",
      "                0.02,\n",
      "                0.03,\n",
      "                0.04,\n",
      "                0.05,\n",
      "                0.1,\n",
      "                0.2,\n",
      "                0.3,\n",
      "                0.4,\n",
      "                0.5,\n",
      "                0.6,\n",
      "                0.7,\n",
      "                0.8,\n",
      "                0.9,\n",
      "                1.0),\n",
      " 'vect__max_df': (0.1, 0.2, 0.5, 0.6, 0.7, 0.8, 0.9, 1.0),\n",
      " 'vect__max_features': (500, 1000, 1500, 2000)}\n",
      "Fitting 3 folds for each of 480 candidates, totalling 1440 fits\n"
     ]
    },
    {
     "name": "stderr",
     "output_type": "stream",
     "text": [
      "[Parallel(n_jobs=-1)]: Done  33 tasks      | elapsed:    5.2s\n",
      "[Parallel(n_jobs=-1)]: Done 154 tasks      | elapsed:   13.2s\n",
      "[Parallel(n_jobs=-1)]: Done 357 tasks      | elapsed:   26.1s\n",
      "[Parallel(n_jobs=-1)]: Done 640 tasks      | elapsed:   44.6s\n",
      "[Parallel(n_jobs=-1)]: Done 1005 tasks      | elapsed:  1.1min\n",
      "[Parallel(n_jobs=-1)]: Done 1440 out of 1440 | elapsed:  1.5min finished\n"
     ]
    },
    {
     "name": "stdout",
     "output_type": "stream",
     "text": [
      "done in 88.511s\n",
      "\n",
      "Best score: 0.711\n",
      "Best parameters set:\n",
      "\tclf__alpha: 0.05\n",
      "\tvect__max_df: 0.7\n",
      "\tvect__max_features: 1000\n"
     ]
    }
   ],
   "source": [
    "from sklearn.model_selection import GridSearchCV\n",
    "from sklearn.pipeline import Pipeline\n",
    "from pprint import pprint\n",
    "from time import time\n",
    "import logging\n",
    "# Affichage du log pendant l'exécution\n",
    "logging.basicConfig(level=logging.INFO,\n",
    "                    format='%(asctime)s %(levelname)s %(message)s')\n",
    "\n",
    "# Définition du pipeline\n",
    "pipeline = Pipeline([\n",
    "    ('vect', CountVectorizer()),\n",
    "    ('tfidf', TfidfTransformer()),\n",
    "    ('clf', MultinomialNB()),\n",
    "])\n",
    "\n",
    "# Valeurs des paramètres à tester\n",
    "parameters = {\n",
    "    'vect__max_df': (0.1, 0.2, 0.5, 0.6, 0.7, 0.8, 0.9, 1.0),\n",
    "    'vect__max_features' : (500, 1000, 1500, 2000),\n",
    "    'clf__alpha': (0.01, 0.02, 0.05, 0.1, 0.2,0.5, 1.0)\n",
    "}\n",
    "\n",
    "# Recherche par validation croisée des meilleurs paramètres pour l'extraction et la classification\n",
    "grid_search = GridSearchCV(pipeline, parameters, n_jobs=-1, verbose=2)\n",
    "\n",
    "print(\"Performing grid search...\")\n",
    "print(\"pipeline:\", [name for name, _ in pipeline.steps])\n",
    "print(\"parameters:\")\n",
    "pprint(parameters)\n",
    "t0 = time()\n",
    "grid_search.fit(x_dev, y_dev)\n",
    "print(\"done in %0.3fs\" % (time() - t0))\n",
    "print()\n",
    "\n",
    "print(\"Best score: %0.3f\" % grid_search.best_score_)\n",
    "print(\"Best parameters set:\")\n",
    "best_parameters = grid_search.best_estimator_.get_params()\n",
    "for param_name in sorted(parameters.keys()):\n",
    "    print(\"\\t%s: %r\" % (param_name, best_parameters[param_name]))"
   ]
  },
  {
   "cell_type": "markdown",
   "metadata": {},
   "source": [
    "Le meilleur triplet de paramètres est (_max_\\__features_ = 1000, _max_\\__df_ = 0.7, _alpha_ = 0.05). Le meilleur score est assez bon. On passe au rapport et à la matrice de confusion pour mieux comprendre ce modèle."
   ]
  },
  {
   "cell_type": "code",
   "execution_count": 84,
   "metadata": {},
   "outputs": [
    {
     "name": "stdout",
     "output_type": "stream",
     "text": [
      "               precision    recall  f1-score   support\n",
      "\n",
      "Advertisement       0.57      0.57      0.57        21\n",
      "        Email       0.82      0.95      0.88        58\n",
      "         Form       0.82      0.82      0.82        39\n",
      "       Letter       0.74      0.75      0.74        52\n",
      "         Memo       0.61      0.77      0.68        65\n",
      "         News       0.75      0.86      0.80        28\n",
      "         Note       1.00      0.12      0.21        25\n",
      "       Report       0.43      0.52      0.47        23\n",
      "       Resume       1.00      1.00      1.00        14\n",
      "   Scientific       1.00      0.42      0.59        24\n",
      "\n",
      "  avg / total       0.75      0.72      0.70       349\n",
      "\n"
     ]
    },
    {
     "data": {
      "text/plain": [
       "array([[110,  18,  19,   8,  10,  16,   1,   1,   0,   1],\n",
       "       [  0, 444,   2,   9,  21,   3,   0,   1,   0,   0],\n",
       "       [ 10,   6, 253,  11,  37,   6,   4,   5,   0,   6],\n",
       "       [  2,   5,   5, 314,  79,  14,   0,  33,   0,   2],\n",
       "       [  0,   9,  14,  50, 401,   6,   0,  13,   0,   4],\n",
       "       [  4,   2,   6,   3,   3, 120,   0,   3,   0,   2],\n",
       "       [ 19,  58,  42,  14,  13,   4,   8,   1,   0,   2],\n",
       "       [  2,   1,   5,  43,  42,  20,   1,  88,   0,  10],\n",
       "       [  0,   0,   0,   0,   0,   0,   0,   0,  98,   0],\n",
       "       [  4,   2,  26,  15,  23,   5,   1,  30,   1, 111]], dtype=int64)"
      ]
     },
     "execution_count": 84,
     "metadata": {},
     "output_type": "execute_result"
    }
   ],
   "source": [
    "best_estimator = grid_search.best_estimator_\n",
    "\n",
    "# Affichage du rapport de classification et de la matrice de confusion\n",
    "print(classification_report(y_test, best_estimator.predict(x_test)))\n",
    "confusion_matrix(y_train, best_estimator.predict(x_train))"
   ]
  },
  {
   "cell_type": "markdown",
   "metadata": {},
   "source": [
    "On voit que le modèle avec les _meilleurs_ hyperparamètres (parmi ceux qu'on a considérés) réussi beaucoup mieux que le modèle de base."
   ]
  }
 ],
 "metadata": {
  "kernelspec": {
   "display_name": "Python 3",
   "language": "python",
   "name": "python3"
  },
  "language_info": {
   "codemirror_mode": {
    "name": "ipython",
    "version": 3
   },
   "file_extension": ".py",
   "mimetype": "text/x-python",
   "name": "python",
   "nbconvert_exporter": "python",
   "pygments_lexer": "ipython3",
   "version": "3.6.6"
  }
 },
 "nbformat": 4,
 "nbformat_minor": 2
}
